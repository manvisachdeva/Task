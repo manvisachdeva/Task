{
 "cells": [
  {
   "cell_type": "code",
   "execution_count": 1,
   "id": "a821d899-3f01-47e0-ac5b-9ae341187be3",
   "metadata": {},
   "outputs": [],
   "source": [
    "import torch\n",
    "import torchaudio\n",
    "from transformers import Wav2Vec2ForCTC, Wav2Vec2Processor\n",
    "import argparse"
   ]
  },
  {
   "cell_type": "code",
   "execution_count": 2,
   "id": "112db230-4ac9-4cc2-8484-43b7e8b93691",
   "metadata": {},
   "outputs": [],
   "source": [
    "def parse_transcription(wav_file):\n",
    "    # load pretrained model\n",
    "    processor = Wav2Vec2Processor.from_pretrained(\"ASR\")\n",
    "    model = Wav2Vec2ForCTC.from_pretrained(\"ASR\")\n",
    "\n",
    "    # load audio\n",
    "    audio_input, sample_rate = torchaudio.load(wav_file)\n",
    "\n",
    "    # pad input values and return pt tensor\n",
    "    resampler = torchaudio.transforms.Resample(sample_rate, 16_000)\n",
    "    speech_array = resampler(audio_input).squeeze().numpy()\n",
    "    input_values = processor(speech_array, sampling_rate=16_000, return_tensors=\"pt\", padding=True).input_values\n",
    "    \n",
    "# attention_mask=input_values.attention_mask\n",
    "    # INFERENCEt\n",
    "    # retrieve logits & take argmax\n",
    "    logits = model(input_values).logits\n",
    "    predicted_ids = torch.argmax(logits, dim=-1)\n",
    "\n",
    "    # transcribe\n",
    "    transcription = processor.decode(predicted_ids[0], skip_special_tokens=True)\n",
    "    print(transcription)"
   ]
  },
  {
   "cell_type": "code",
   "execution_count": 3,
   "id": "ab9eac44-af92-448e-9852-63cd30e1b523",
   "metadata": {},
   "outputs": [
    {
     "name": "stderr",
     "output_type": "stream",
     "text": [
      "2023-06-11 13:50:55.211666: I tensorflow/core/platform/cpu_feature_guard.cc:193] This TensorFlow binary is optimized with oneAPI Deep Neural Network Library (oneDNN) to use the following CPU instructions in performance-critical operations:  AVX2 FMA\n",
      "To enable them in other operations, rebuild TensorFlow with the appropriate compiler flags.\n",
      "2023-06-11 13:50:56.326905: W tensorflow/compiler/xla/stream_executor/platform/default/dso_loader.cc:64] Could not load dynamic library 'libnvinfer.so.7'; dlerror: libnvinfer.so.7: cannot open shared object file: No such file or directory\n",
      "2023-06-11 13:50:56.326999: W tensorflow/compiler/xla/stream_executor/platform/default/dso_loader.cc:64] Could not load dynamic library 'libnvinfer_plugin.so.7'; dlerror: libnvinfer_plugin.so.7: cannot open shared object file: No such file or directory\n",
      "2023-06-11 13:50:56.327006: W tensorflow/compiler/tf2tensorrt/utils/py_utils.cc:38] TF-TRT Warning: Cannot dlopen some TensorRT libraries. If you would like to use Nvidia GPU with TensorRT, please make sure the missing libraries mentioned above are installed properly.\n"
     ]
    },
    {
     "name": "stdout",
     "output_type": "stream",
     "text": [
      "तुम्हारे बहुत सरे दूसनेहै\n"
     ]
    }
   ],
   "source": [
    "parse_transcription(\"data/clips/common_voice_hi_25248770.mp3\")"
   ]
  },
  {
   "cell_type": "code",
   "execution_count": null,
   "id": "f49bd794-72d7-47e1-aac1-0586289ffaad",
   "metadata": {},
   "outputs": [],
   "source": []
  }
 ],
 "metadata": {
  "kernelspec": {
   "display_name": "Python 3 (ipykernel)",
   "language": "python",
   "name": "python3"
  },
  "language_info": {
   "codemirror_mode": {
    "name": "ipython",
    "version": 3
   },
   "file_extension": ".py",
   "mimetype": "text/x-python",
   "name": "python",
   "nbconvert_exporter": "python",
   "pygments_lexer": "ipython3",
   "version": "3.10.9"
  }
 },
 "nbformat": 4,
 "nbformat_minor": 5
}
